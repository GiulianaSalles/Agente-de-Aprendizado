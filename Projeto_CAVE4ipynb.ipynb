{
  "nbformat": 4,
  "nbformat_minor": 0,
  "metadata": {
    "colab": {
      "provenance": [],
      "authorship_tag": "ABX9TyMYqJOqo2/eg/FExn+9pTfQ",
      "include_colab_link": true
    },
    "kernelspec": {
      "name": "python3",
      "display_name": "Python 3"
    },
    "language_info": {
      "name": "python"
    }
  },
  "cells": [
    {
      "cell_type": "markdown",
      "metadata": {
        "id": "view-in-github",
        "colab_type": "text"
      },
      "source": [
        "<a href=\"https://colab.research.google.com/github/GiulianaSalles/Agente-de-Aprendizado/blob/main/Projeto_CAVE4ipynb.ipynb\" target=\"_parent\"><img src=\"https://colab.research.google.com/assets/colab-badge.svg\" alt=\"Open In Colab\"/></a>"
      ]
    },
    {
      "cell_type": "code",
      "source": [
        "!pip install groq"
      ],
      "metadata": {
        "colab": {
          "base_uri": "https://localhost:8080/"
        },
        "collapsed": true,
        "id": "xA7XhSy-64Cz",
        "outputId": "adfd7771-2a6c-4c99-ce8b-34183edd48cd"
      },
      "execution_count": null,
      "outputs": [
        {
          "output_type": "stream",
          "name": "stdout",
          "text": [
            "Collecting groq\n",
            "  Downloading groq-0.13.0-py3-none-any.whl.metadata (13 kB)\n",
            "Requirement already satisfied: anyio<5,>=3.5.0 in /usr/local/lib/python3.10/dist-packages (from groq) (3.7.1)\n",
            "Requirement already satisfied: distro<2,>=1.7.0 in /usr/local/lib/python3.10/dist-packages (from groq) (1.9.0)\n",
            "Requirement already satisfied: httpx<1,>=0.23.0 in /usr/local/lib/python3.10/dist-packages (from groq) (0.28.1)\n",
            "Requirement already satisfied: pydantic<3,>=1.9.0 in /usr/local/lib/python3.10/dist-packages (from groq) (2.10.3)\n",
            "Requirement already satisfied: sniffio in /usr/local/lib/python3.10/dist-packages (from groq) (1.3.1)\n",
            "Requirement already satisfied: typing-extensions<5,>=4.7 in /usr/local/lib/python3.10/dist-packages (from groq) (4.12.2)\n",
            "Requirement already satisfied: idna>=2.8 in /usr/local/lib/python3.10/dist-packages (from anyio<5,>=3.5.0->groq) (3.10)\n",
            "Requirement already satisfied: exceptiongroup in /usr/local/lib/python3.10/dist-packages (from anyio<5,>=3.5.0->groq) (1.2.2)\n",
            "Requirement already satisfied: certifi in /usr/local/lib/python3.10/dist-packages (from httpx<1,>=0.23.0->groq) (2024.8.30)\n",
            "Requirement already satisfied: httpcore==1.* in /usr/local/lib/python3.10/dist-packages (from httpx<1,>=0.23.0->groq) (1.0.7)\n",
            "Requirement already satisfied: h11<0.15,>=0.13 in /usr/local/lib/python3.10/dist-packages (from httpcore==1.*->httpx<1,>=0.23.0->groq) (0.14.0)\n",
            "Requirement already satisfied: annotated-types>=0.6.0 in /usr/local/lib/python3.10/dist-packages (from pydantic<3,>=1.9.0->groq) (0.7.0)\n",
            "Requirement already satisfied: pydantic-core==2.27.1 in /usr/local/lib/python3.10/dist-packages (from pydantic<3,>=1.9.0->groq) (2.27.1)\n",
            "Downloading groq-0.13.0-py3-none-any.whl (108 kB)\n",
            "\u001b[?25l   \u001b[90m━━━━━━━━━━━━━━━━━━━━━━━━━━━━━━━━━━━━━━━━\u001b[0m \u001b[32m0.0/108.8 kB\u001b[0m \u001b[31m?\u001b[0m eta \u001b[36m-:--:--\u001b[0m\r\u001b[2K   \u001b[90m━━━━━━━━━━━━━━━━━━━━━━━━━━━━━━━━━━━━━━━━\u001b[0m \u001b[32m108.8/108.8 kB\u001b[0m \u001b[31m5.0 MB/s\u001b[0m eta \u001b[36m0:00:00\u001b[0m\n",
            "\u001b[?25hInstalling collected packages: groq\n",
            "Successfully installed groq-0.13.0\n"
          ]
        }
      ]
    },
    {
      "cell_type": "code",
      "execution_count": null,
      "metadata": {
        "id": "_38zW6y06yVi"
      },
      "outputs": [],
      "source": [
        "import os\n",
        "from groq import Groq\n",
        "\n",
        "# Configuração\n",
        "def configurar_groq(api_key):\n",
        "    os.environ[\"GROQ_API_KEY\"] = api_key\n",
        "    return Groq()"
      ]
    },
    {
      "cell_type": "code",
      "source": [
        "def formatar_explicacao(explicacao, max_linha=80):\n",
        "    \"\"\"Formata a explicação para que cada linha tenha no máximo max_linha caracteres.\"\"\"\n",
        "    palavras = explicacao.split()\n",
        "    linhas = []\n",
        "    linha_atual = \"\"\n",
        "\n",
        "    for palavra in palavras:\n",
        "        if len(linha_atual) + len(palavra) + 1 > max_linha:\n",
        "            linhas.append(linha_atual.strip())\n",
        "            linha_atual = palavra + \" \"\n",
        "        else:\n",
        "            linha_atual += palavra + \" \"\n",
        "\n",
        "    if linha_atual:\n",
        "        linhas.append(linha_atual.strip())\n",
        "\n",
        "    return \"\\n\".join(linhas)"
      ],
      "metadata": {
        "id": "dJX1rhRtDTLh"
      },
      "execution_count": null,
      "outputs": []
    },
    {
      "cell_type": "code",
      "source": [
        "def corrigir_frase_e_explicar(client, frase_usuario):\n",
        "    try:\n",
        "        prompt = (\n",
        "            f\"Corrija a seguinte frase gramaticalmente: {frase_usuario}. \"\n",
        "            \"Dê uma explicação breve sobre o erro, mas responda de forma organizada no formato: \"\n",
        "            \"Correção: [frase corrigida]\\nExplicação: [breve explicação em português].\"\n",
        "        )\n",
        "\n",
        "        completion = client.chat.completions.create(\n",
        "            model=\"llama3-groq-70b-8192-tool-use-preview\",\n",
        "            messages=[\n",
        "                {\"role\": \"user\", \"content\": prompt}\n",
        "            ],\n",
        "            temperature=0.5,\n",
        "            max_tokens=1024,\n",
        "            top_p=0.65,\n",
        "            stream=False,\n",
        "            stop=None,\n",
        "        )\n",
        "#Extraindo a resposta gerada pelo modelo\n",
        "        resposta = completion.choices[0].message.content.strip()\n",
        "\n",
        "        if \"Correção:\" in resposta and \"Explicação:\" in resposta:\n",
        "            partes = resposta.split(\"\\n\")\n",
        "            correcao = partes[0].replace(\"Correção:\", \"\").strip()\n",
        "            explicacao = partes[1].replace(\"Explicação:\", \"\").strip()\n",
        "            explicacao_formatada = formatar_explicacao(explicacao, max_linha=60)\n",
        "            return correcao, explicacao_formatada\n",
        "        else:\n",
        "            return \"Erro ao processar a resposta\", \"Não foi possível separar correção e explicação.\"\n",
        "    except Exception as e:\n",
        "        return None, f\"Ocorreu um erro: {e}\"\n",
        "\n",
        "def gerar_plano_de_estudos(frases_usuario):\n",
        "    try:\n",
        "        prompt = (\n",
        "            \"Crie um plano de estudos de gramática baseado nas seguintes frases: \"\n",
        "            f\"{frases_usuario}.[explicação em português] Indique áreas de foco e recomende livros ou materiais úteis. \"\n",
        "            \"Responda de forma objetiva.\"\n",
        "        )\n",
        "\n",
        "        completion = client.chat.completions.create(\n",
        "            model=\"llama3-groq-70b-8192-tool-use-preview\",\n",
        "            messages=[\n",
        "                {\"role\": \"user\", \"content\": prompt}\n",
        "            ],\n",
        "            temperature=0.5,\n",
        "            max_tokens=1024,\n",
        "            top_p=0.7,\n",
        "            stream=False,\n",
        "            stop=None,\n",
        "        )\n",
        "\n",
        "        resposta = completion.choices[0].message.content.strip()\n",
        "        return resposta\n",
        "    except Exception as e:\n",
        "        return f\"Ocorreu um erro ao gerar o plano de estudos: {e}\"\n",
        "\n",
        "# Fluxo principal\n",
        "if __name__ == \"__main__\":\n",
        "    API_KEY = \"\"\n",
        "    client = configurar_groq(API_KEY)\n",
        "\n",
        "    print(\"Bem-vindo(a) ao Guia de Idiomas! Sou seu aliado na jornada de aprendizado linguístico.\\n\"\n",
        "      \"Posso ajudá-lo(a) a corrigir frases, entender erros gramaticais e até montar planos de estudos personalizados com base nas suas dúvidas.\\n\"\n",
        "      \"Vamos começar?\")\n",
        "    nome_usuario = input(\"Qual é o seu nome? \").strip()\n",
        "    print(f\"Prazer em conhecê-lo(a), {nome_usuario}! Vamos começar.\\n\")\n",
        "\n",
        "    while True:\n",
        "        print(\"\\nEscolha uma opção:\")\n",
        "        print(\"1. Dúvida de Gramática\")\n",
        "        print(\"2. Plano de Estudos\")\n",
        "        print(\"3. Sair\\n\")\n",
        "        opcao = input(\"Digite o número da opção escolhida: \").strip()\n",
        "\n",
        "        if opcao == \"1\":\n",
        "            frase = input(\"\\nDigite uma frase para corrigir: \").strip()\n",
        "            correcao, explicacao = corrigir_frase_e_explicar(client, frase)\n",
        "            print(f\"\\nCorreção: {correcao}\")\n",
        "            print(f\"Explicação:\\n{explicacao}\\n\")\n",
        "\n",
        "        elif opcao == \"2\":\n",
        "            print(\"\\nPor favor, forneça 3 frases onde você tem mais dúvidas:\")\n",
        "            frases_usuario = []\n",
        "            for i in range(3):\n",
        "                frase = input(f\"Frase {i + 1}: \").strip()\n",
        "                frases_usuario.append(frase)\n",
        "            plano = gerar_plano_de_estudos(\" \".join(frases_usuario))\n",
        "            print(f\"\\n{nome_usuario}. Aqui está o seu plano de estudos:\")\n",
        "            print(plano)\n",
        "\n",
        "        elif opcao == \"3\":\n",
        "            print(f\"\\nAté breve, {nome_usuario}! Foi um prazer ajudá-lo(a).\")\n",
        "            # Solicitação de avaliação\n",
        "            avaliacao = input(\"\\nComo você avalia sua experiência? Por favor, avalie de 1 a 5 (1 - ruim, 5 - excelente): \").strip()\n",
        "            print(f\"\\nObrigado pela sua avaliação! Sua opinião é muito importante para nós.\\n\")\n",
        "            break\n",
        "\n",
        "        else:\n",
        "            print(\"\\nOpção inválida. Tente novamente.\\n\")"
      ],
      "metadata": {
        "colab": {
          "base_uri": "https://localhost:8080/"
        },
        "id": "Hg6fB1c47y7c",
        "outputId": "638b747e-ead0-440b-f32a-2dce548f0403"
      },
      "execution_count": null,
      "outputs": [
        {
          "output_type": "stream",
          "name": "stdout",
          "text": [
            "Bem-vindo(a) ao Guia de Idiomas! Sou seu aliado na jornada de aprendizado linguístico.\n",
            "Posso ajudá-lo(a) a corrigir frases, entender erros gramaticais e até montar planos de estudos personalizados com base nas suas dúvidas.\n",
            "Vamos começar?\n",
            "Qual é o seu nome? Giu\n",
            "Prazer em conhecê-lo(a), Giu! Vamos começar.\n",
            "\n",
            "\n",
            "Escolha uma opção:\n",
            "1. Dúvida de Gramática\n",
            "2. Plano de Estudos\n",
            "3. Sair\n",
            "\n",
            "Digite o número da opção escolhida: Te vogliu bene , amore miu\n",
            "\n",
            "Opção inválida. Tente novamente.\n",
            "\n",
            "\n",
            "Escolha uma opção:\n",
            "1. Dúvida de Gramática\n",
            "2. Plano de Estudos\n",
            "3. Sair\n",
            "\n",
            "Digite o número da opção escolhida: 1\n",
            "\n",
            "Digite uma frase para corrigir: Te vogliu bene , amore miu\n",
            "\n",
            "Correção: Ti voglio bene, amore mio.\n",
            "Explicação:\n",
            "A frase original apresenta erros de concordância e\n",
            "ortografia. \"Te\" deve ser substituído por \"Ti\" (você) para\n",
            "concordar com o verbo \"voglio\" (eu quero). Além disso,\n",
            "\"vogliu\" deve ser corrigido para \"voglio\", que é a forma\n",
            "correta do verbo \"volere\" (querer) no presente do\n",
            "indicativo. Por último, \"miu\" deve ser substituído por\n",
            "\"mio\" (meu), que é a forma correta do adjetivo possessivo.\n",
            "\n",
            "\n",
            "Escolha uma opção:\n",
            "1. Dúvida de Gramática\n",
            "2. Plano de Estudos\n",
            "3. Sair\n",
            "\n",
            "Digite o número da opção escolhida: 2\n",
            "\n",
            "Por favor, forneça 3 frases onde você tem mais dúvidas:\n",
            "Frase 1: I does play guitar \n",
            "Frase 2: She have work \n",
            "Frase 3: He go to scholl\n",
            "\n",
            "Giu. Aqui está o seu plano de estudos:\n",
            "Plano de Estudos de Gramática\n",
            "\n",
            "1. Área de Foco: Verbos regulares e irregulares no presente simples\n",
            "\n",
            "- Explicação: A frase \"I does play guitar\" apresenta um erro gramatical com o uso do verbo \"does\" no lugar do verbo \"do\" (ou simplesmente omitindo-o) no presente simples. É importante aprender a conjugação dos verbos regulares e irregulares no presente simples.\n",
            "\n",
            "2. Área de Foco: Uso correto de \"have\" e \"has\"\n",
            "\n",
            "- Explicação: A frase \"She have work\" apresenta um erro gramatical com o uso de \"have\" em vez de \"has\" (ou simplesmente omitindo-o) no presente simples. É importante aprender a conjugação dos verbos regulares e irregulares no presente simples.\n",
            "\n",
            "3. Área de Foco: Uso correto de \"go\" e \"goes\"\n",
            "\n",
            "- Explicação: A frase \"He go to school\" apresenta um erro gramatical com o uso de \"go\" em vez de \"goes\" (ou simplesmente omitindo-o) no presente simples. É importante aprender a conjugação dos verbos regulares e irregulares no presente simples.\n",
            "\n",
            "4. Área de Foco: Uso correto de preposições\n",
            "\n",
            "- Explicação: A frase \"He go to school\" apresenta um erro gramatical com o uso de \"to\" em vez de \"at\" ou \"in\" dependendo do contexto. É importante aprender a usar as preposições corretas em diferentes contextos.\n",
            "\n",
            "Recomendações de Livros ou Materiais Úteis:\n",
            "\n",
            "1. \"English Grammar in Use\" de Cambridge University Press - Este livro é uma referência clássica para aprender gramática inglesa e tem exercícios práticos para ajudar a fixar conceitos.\n",
            "2. \"The Oxford English Grammar\" de Sidney Greenbaum - Este livro é mais avançado e detalha a estrutura gramatical da língua inglesa de forma clara e objetiva.\n",
            "3. \"Grammar for IELTS\" de Cambridge University Press - Este livro é especialmente útil para quem está se preparando para o exame IELTS e precisa de prática em gramática inglesa.\n",
            "\n",
            "Recomendações de Sites Úteis:\n",
            "\n",
            "1. https://www.englishpage.com/grammar/index.html - Este site tem uma vasta quantidade de informações sobre gramática inglesa, incluindo regras, exemplos e exercícios.\n",
            "2. https://www.britishcouncil.org/learn-english/grammar - Este site do British Council oferece recursos e atividades para aprender gramática inglesa de forma interativa.\n",
            "\n",
            "Escolha uma opção:\n",
            "1. Dúvida de Gramática\n",
            "2. Plano de Estudos\n",
            "3. Sair\n",
            "\n",
            "Digite o número da opção escolhida: 3\n",
            "\n",
            "Até breve, Giu! Foi um prazer ajudá-lo(a).\n",
            "\n",
            "Como você avalia sua experiência? Por favor, avalie de 1 a 5 (1 - ruim, 5 - excelente): 4\n",
            "\n",
            "Obrigado pela sua avaliação! Sua opinião é muito importante para nós.\n",
            "\n"
          ]
        }
      ]
    },
    {
      "cell_type": "code",
      "source": [
        "!pip install transformers torch"
      ],
      "metadata": {
        "colab": {
          "base_uri": "https://localhost:8080/"
        },
        "collapsed": true,
        "id": "dQbr0WQicoib",
        "outputId": "229d898d-7a55-4fe9-be4e-748d472e624b"
      },
      "execution_count": null,
      "outputs": [
        {
          "output_type": "stream",
          "name": "stdout",
          "text": [
            "Requirement already satisfied: transformers in /usr/local/lib/python3.10/dist-packages (4.46.3)\n",
            "Requirement already satisfied: torch in /usr/local/lib/python3.10/dist-packages (2.5.1+cu121)\n",
            "Requirement already satisfied: filelock in /usr/local/lib/python3.10/dist-packages (from transformers) (3.16.1)\n",
            "Requirement already satisfied: huggingface-hub<1.0,>=0.23.2 in /usr/local/lib/python3.10/dist-packages (from transformers) (0.26.5)\n",
            "Requirement already satisfied: numpy>=1.17 in /usr/local/lib/python3.10/dist-packages (from transformers) (1.26.4)\n",
            "Requirement already satisfied: packaging>=20.0 in /usr/local/lib/python3.10/dist-packages (from transformers) (24.2)\n",
            "Requirement already satisfied: pyyaml>=5.1 in /usr/local/lib/python3.10/dist-packages (from transformers) (6.0.2)\n",
            "Requirement already satisfied: regex!=2019.12.17 in /usr/local/lib/python3.10/dist-packages (from transformers) (2024.9.11)\n",
            "Requirement already satisfied: requests in /usr/local/lib/python3.10/dist-packages (from transformers) (2.32.3)\n",
            "Requirement already satisfied: tokenizers<0.21,>=0.20 in /usr/local/lib/python3.10/dist-packages (from transformers) (0.20.3)\n",
            "Requirement already satisfied: safetensors>=0.4.1 in /usr/local/lib/python3.10/dist-packages (from transformers) (0.4.5)\n",
            "Requirement already satisfied: tqdm>=4.27 in /usr/local/lib/python3.10/dist-packages (from transformers) (4.66.6)\n",
            "Requirement already satisfied: typing-extensions>=4.8.0 in /usr/local/lib/python3.10/dist-packages (from torch) (4.12.2)\n",
            "Requirement already satisfied: networkx in /usr/local/lib/python3.10/dist-packages (from torch) (3.4.2)\n",
            "Requirement already satisfied: jinja2 in /usr/local/lib/python3.10/dist-packages (from torch) (3.1.4)\n",
            "Requirement already satisfied: fsspec in /usr/local/lib/python3.10/dist-packages (from torch) (2024.10.0)\n",
            "Requirement already satisfied: sympy==1.13.1 in /usr/local/lib/python3.10/dist-packages (from torch) (1.13.1)\n",
            "Requirement already satisfied: mpmath<1.4,>=1.1.0 in /usr/local/lib/python3.10/dist-packages (from sympy==1.13.1->torch) (1.3.0)\n",
            "Requirement already satisfied: MarkupSafe>=2.0 in /usr/local/lib/python3.10/dist-packages (from jinja2->torch) (3.0.2)\n",
            "Requirement already satisfied: charset-normalizer<4,>=2 in /usr/local/lib/python3.10/dist-packages (from requests->transformers) (3.4.0)\n",
            "Requirement already satisfied: idna<4,>=2.5 in /usr/local/lib/python3.10/dist-packages (from requests->transformers) (3.10)\n",
            "Requirement already satisfied: urllib3<3,>=1.21.1 in /usr/local/lib/python3.10/dist-packages (from requests->transformers) (2.2.3)\n",
            "Requirement already satisfied: certifi>=2017.4.17 in /usr/local/lib/python3.10/dist-packages (from requests->transformers) (2024.8.30)\n"
          ]
        }
      ]
    },
    {
      "cell_type": "code",
      "source": [
        "!pip install textstat"
      ],
      "metadata": {
        "colab": {
          "base_uri": "https://localhost:8080/"
        },
        "collapsed": true,
        "id": "SUgStr-iMoF-",
        "outputId": "9f9a7599-58b7-439b-ef60-27446344edf0"
      },
      "execution_count": null,
      "outputs": [
        {
          "output_type": "stream",
          "name": "stdout",
          "text": [
            "Collecting textstat\n",
            "  Downloading textstat-0.7.4-py3-none-any.whl.metadata (14 kB)\n",
            "Collecting pyphen (from textstat)\n",
            "  Downloading pyphen-0.17.0-py3-none-any.whl.metadata (3.2 kB)\n",
            "Requirement already satisfied: setuptools in /usr/local/lib/python3.10/dist-packages (from textstat) (75.1.0)\n",
            "Downloading textstat-0.7.4-py3-none-any.whl (105 kB)\n",
            "\u001b[?25l   \u001b[90m━━━━━━━━━━━━━━━━━━━━━━━━━━━━━━━━━━━━━━━━\u001b[0m \u001b[32m0.0/105.1 kB\u001b[0m \u001b[31m?\u001b[0m eta \u001b[36m-:--:--\u001b[0m\r\u001b[2K   \u001b[90m━━━━━━━━━━━━━━━━━━━━━━━━━━━━━━━━━━━━━━━━\u001b[0m \u001b[32m105.1/105.1 kB\u001b[0m \u001b[31m5.3 MB/s\u001b[0m eta \u001b[36m0:00:00\u001b[0m\n",
            "\u001b[?25hDownloading pyphen-0.17.0-py3-none-any.whl (2.1 MB)\n",
            "\u001b[2K   \u001b[90m━━━━━━━━━━━━━━━━━━━━━━━━━━━━━━━━━━━━━━━━\u001b[0m \u001b[32m2.1/2.1 MB\u001b[0m \u001b[31m34.3 MB/s\u001b[0m eta \u001b[36m0:00:00\u001b[0m\n",
            "\u001b[?25hInstalling collected packages: pyphen, textstat\n",
            "Successfully installed pyphen-0.17.0 textstat-0.7.4\n"
          ]
        }
      ]
    },
    {
      "cell_type": "code",
      "source": [
        "from sentence_transformers import SentenceTransformer, util\n",
        "import textstat\n",
        "\n",
        "# Carregar modelo de embeddings\n",
        "model = SentenceTransformer('paraphrase-MiniLM-L6-v2')\n",
        "\n",
        "# Função para clareza\n",
        "def avaliar_clareza(resposta):\n",
        "    clareza = textstat.flesch_reading_ease(resposta)\n",
        "    return clareza\n",
        "\n",
        "# Função para similaridade\n",
        "def avaliar_similaridade(texto1, texto2):\n",
        "    embeddings_texto1 = model.encode(texto1, convert_to_tensor=True)\n",
        "    embeddings_texto2 = model.encode(texto2, convert_to_tensor=True)\n",
        "    similaridade = util.cos_sim(embeddings_texto1, embeddings_texto2)\n",
        "    return float(similaridade)\n",
        "\n",
        "# Validar respostas\n",
        "def validar_respostas_geradas(correcao, explicacao):\n",
        "    # Avaliar Clareza\n",
        "    clareza_correcao = avaliar_clareza(correcao)\n",
        "    clareza_explicacao = avaliar_clareza(explicacao)\n",
        "\n",
        "    # Avaliar Precisão e Relevância (correção vs explicação)\n",
        "    precisao = avaliar_similaridade(correcao, explicacao)\n",
        "    relevancia = avaliar_similaridade(correcao, explicacao)\n",
        "\n",
        "    # Exibir textos e resultados\n",
        "    print(f\"Correção: {correcao}\")\n",
        "    print(f\"Explicação: {explicacao}\\n\")\n",
        "\n",
        "    print(f\"**Avaliação da Correção**\")\n",
        "    print(f\"Clareza: {clareza_correcao:.2f}\")\n",
        "    print(f\"Precisão: {precisao:.2f}\")\n",
        "    print(f\"Relevância: {relevancia:.2f}\\n\")\n",
        "\n",
        "    print(f\"**Avaliação da Explicação**\")\n",
        "    print(f\"Clareza: {clareza_explicacao:.2f}\")\n",
        "    print(f\"Precisão: {precisao:.2f}\")\n",
        "    print(f\"Relevância: {relevancia:.2f}\")\n",
        "\n",
        "# Exemplos de respostas geradas\n",
        "correcao = \"Um capacitor armazena energia elétrica na forma de um campo elétrico e é usado em circuitos eletrônicos.\"\n",
        "explicacao = \"Um capacitor funciona armazenando cargas elétricas, o que permite estabilizar e filtrar sinais em circuitos.\"\n",
        "\n",
        "# Chamar função\n",
        "validar_respostas_geradas(correcao, explicacao)\n"
      ],
      "metadata": {
        "colab": {
          "base_uri": "https://localhost:8080/"
        },
        "id": "-DGpKjc3hj9Z",
        "outputId": "c870ef90-e0f2-40f1-bb39-1ad01945ae39"
      },
      "execution_count": null,
      "outputs": [
        {
          "output_type": "stream",
          "name": "stdout",
          "text": [
            "Correção: Um capacitor armazena energia elétrica na forma de um campo elétrico e é usado em circuitos eletrônicos.\n",
            "Explicação: Um capacitor funciona armazenando cargas elétricas, o que permite estabilizar e filtrar sinais em circuitos.\n",
            "\n",
            "**Avaliação da Correção**\n",
            "Clareza: 37.30\n",
            "Precisão: 0.79\n",
            "Relevância: 0.79\n",
            "\n",
            "**Avaliação da Explicação**\n",
            "Clareza: 22.41\n",
            "Precisão: 0.79\n",
            "Relevância: 0.79\n"
          ]
        }
      ]
    }
  ]
}