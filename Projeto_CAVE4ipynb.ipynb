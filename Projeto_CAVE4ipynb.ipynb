{
  "nbformat": 4,
  "nbformat_minor": 0,
  "metadata": {
    "colab": {
      "provenance": [],
      "authorship_tag": "ABX9TyOiai4MHgKfdVbpYqxuZpBl",
      "include_colab_link": true
    },
    "kernelspec": {
      "name": "python3",
      "display_name": "Python 3"
    },
    "language_info": {
      "name": "python"
    }
  },
  "cells": [
    {
      "cell_type": "markdown",
      "metadata": {
        "id": "view-in-github",
        "colab_type": "text"
      },
      "source": [
        "<a href=\"https://colab.research.google.com/github/GiulianaSalles/Agente-de-Aprendizado/blob/main/Projeto_CAVE4ipynb.ipynb\" target=\"_parent\"><img src=\"https://colab.research.google.com/assets/colab-badge.svg\" alt=\"Open In Colab\"/></a>"
      ]
    },
    {
      "cell_type": "code",
      "source": [
        "!pip install groq"
      ],
      "metadata": {
        "colab": {
          "base_uri": "https://localhost:8080/"
        },
        "collapsed": true,
        "id": "xA7XhSy-64Cz",
        "outputId": "c1ebc770-43c6-410d-b325-95bf36f57ebf"
      },
      "execution_count": 72,
      "outputs": [
        {
          "output_type": "stream",
          "name": "stdout",
          "text": [
            "Requirement already satisfied: groq in /usr/local/lib/python3.10/dist-packages (0.13.0)\n",
            "Requirement already satisfied: anyio<5,>=3.5.0 in /usr/local/lib/python3.10/dist-packages (from groq) (3.7.1)\n",
            "Requirement already satisfied: distro<2,>=1.7.0 in /usr/local/lib/python3.10/dist-packages (from groq) (1.9.0)\n",
            "Requirement already satisfied: httpx<1,>=0.23.0 in /usr/local/lib/python3.10/dist-packages (from groq) (0.28.0)\n",
            "Requirement already satisfied: pydantic<3,>=1.9.0 in /usr/local/lib/python3.10/dist-packages (from groq) (2.10.3)\n",
            "Requirement already satisfied: sniffio in /usr/local/lib/python3.10/dist-packages (from groq) (1.3.1)\n",
            "Requirement already satisfied: typing-extensions<5,>=4.7 in /usr/local/lib/python3.10/dist-packages (from groq) (4.12.2)\n",
            "Requirement already satisfied: idna>=2.8 in /usr/local/lib/python3.10/dist-packages (from anyio<5,>=3.5.0->groq) (3.10)\n",
            "Requirement already satisfied: exceptiongroup in /usr/local/lib/python3.10/dist-packages (from anyio<5,>=3.5.0->groq) (1.2.2)\n",
            "Requirement already satisfied: certifi in /usr/local/lib/python3.10/dist-packages (from httpx<1,>=0.23.0->groq) (2024.8.30)\n",
            "Requirement already satisfied: httpcore==1.* in /usr/local/lib/python3.10/dist-packages (from httpx<1,>=0.23.0->groq) (1.0.7)\n",
            "Requirement already satisfied: h11<0.15,>=0.13 in /usr/local/lib/python3.10/dist-packages (from httpcore==1.*->httpx<1,>=0.23.0->groq) (0.14.0)\n",
            "Requirement already satisfied: annotated-types>=0.6.0 in /usr/local/lib/python3.10/dist-packages (from pydantic<3,>=1.9.0->groq) (0.7.0)\n",
            "Requirement already satisfied: pydantic-core==2.27.1 in /usr/local/lib/python3.10/dist-packages (from pydantic<3,>=1.9.0->groq) (2.27.1)\n"
          ]
        }
      ]
    },
    {
      "cell_type": "code",
      "execution_count": 77,
      "metadata": {
        "id": "_38zW6y06yVi"
      },
      "outputs": [],
      "source": [
        "import os\n",
        "from groq import Groq\n",
        "\n",
        "# Configuração\n",
        "def configurar_groq(api_key):\n",
        "    os.environ[\"GROQ_API_KEY\"] = api_key\n",
        "    return Groq()"
      ]
    },
    {
      "cell_type": "code",
      "source": [
        "def formatar_explicacao(explicacao, max_linha=80):\n",
        "    \"\"\"Formata a explicação para que cada linha tenha no máximo max_linha caracteres.\"\"\"\n",
        "    palavras = explicacao.split()\n",
        "    linhas = []\n",
        "    linha_atual = \"\"\n",
        "\n",
        "    for palavra in palavras:\n",
        "        if len(linha_atual) + len(palavra) + 1 > max_linha:\n",
        "            linhas.append(linha_atual.strip())\n",
        "            linha_atual = palavra + \" \"\n",
        "        else:\n",
        "            linha_atual += palavra + \" \"\n",
        "\n",
        "    if linha_atual:\n",
        "        linhas.append(linha_atual.strip())\n",
        "\n",
        "    return \"\\n\".join(linhas)"
      ],
      "metadata": {
        "id": "dJX1rhRtDTLh"
      },
      "execution_count": 73,
      "outputs": []
    },
    {
      "cell_type": "code",
      "source": [
        "def corrigir_frase_e_explicar(client, frase_usuario):\n",
        "    try:\n",
        "        prompt = (\n",
        "            f\"Corrija a seguinte frase gramaticalmente: {frase_usuario}. \"\n",
        "            \"Dê uma explicação breve sobre o erro, mas responda de forma organizada no formato: \"\n",
        "            \"Correção: [frase corrigida]\\nExplicação: [breve explicação em português].\"\n",
        "        )\n",
        "\n",
        "        completion = client.chat.completions.create(\n",
        "            model=\"llama3-groq-70b-8192-tool-use-preview\",\n",
        "            messages=[\n",
        "                {\"role\": \"user\", \"content\": prompt}\n",
        "            ],\n",
        "            temperature=0.5,\n",
        "            max_tokens=1024,\n",
        "            top_p=0.65,\n",
        "            stream=False,\n",
        "            stop=None,\n",
        "        )\n",
        "\n",
        "        resposta = completion.choices[0].message.content.strip()\n",
        "\n",
        "        if \"Correção:\" in resposta and \"Explicação:\" in resposta:\n",
        "            partes = resposta.split(\"\\n\")\n",
        "            correcao = partes[0].replace(\"Correção:\", \"\").strip()\n",
        "            explicacao = partes[1].replace(\"Explicação:\", \"\").strip()\n",
        "            explicacao_formatada = formatar_explicacao(explicacao, max_linha=60)\n",
        "            return correcao, explicacao_formatada\n",
        "        else:\n",
        "            return \"Erro ao processar a resposta\", \"Não foi possível separar correção e explicação.\"\n",
        "    except Exception as e:\n",
        "        return None, f\"Ocorreu um erro: {e}\"\n",
        "\n",
        "def gerar_plano_de_estudos(frases_usuario):\n",
        "    try:\n",
        "        prompt = (\n",
        "            \"Crie um plano de estudos de gramática baseado nas seguintes frases: \"\n",
        "            f\"{frases_usuario}. Indique áreas de foco e recomende livros ou materiais úteis. \"\n",
        "            \"Responda de forma objetiva.\"\n",
        "        )\n",
        "\n",
        "        completion = client.chat.completions.create(\n",
        "            model=\"llama3-groq-70b-8192-tool-use-preview\",\n",
        "            messages=[\n",
        "                {\"role\": \"user\", \"content\": prompt}\n",
        "            ],\n",
        "            temperature=0.5,\n",
        "            max_tokens=1024,\n",
        "            top_p=0.7,\n",
        "            stream=False,\n",
        "            stop=None,\n",
        "        )\n",
        "\n",
        "        resposta = completion.choices[0].message.content.strip()\n",
        "        return resposta\n",
        "    except Exception as e:\n",
        "        return f\"Ocorreu um erro ao gerar o plano de estudos: {e}\"\n",
        "\n",
        "# Fluxo principal\n",
        "if __name__ == \"__main__\":\n",
        "    API_KEY = \"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\"\n",
        "    client = configurar_groq(API_KEY)\n",
        "\n",
        "    print(\"Bem-vindo(a) ao Guia de Idiomas! Sou seu aliado na jornada de aprendizado linguístico.\\n\"\n",
        "      \"Posso ajudá-lo(a) a corrigir frases, entender erros gramaticais e até montar planos de estudos personalizados com base nas suas dúvidas.\\n\"\n",
        "      \"Vamos começar?\")\n",
        "    nome_usuario = input(\"Qual é o seu nome? \").strip()\n",
        "    print(f\"Prazer em conhecê-lo(a), {nome_usuario}! Vamos começar.\\n\")\n",
        "\n",
        "    while True:\n",
        "        print(\"\\nEscolha uma opção:\")\n",
        "        print(\"1. Dúvida de Gramática\")\n",
        "        print(\"2. Plano de Estudos\")\n",
        "        print(\"3. Sair\\n\")\n",
        "        opcao = input(\"Digite o número da opção escolhida: \").strip()\n",
        "\n",
        "        if opcao == \"1\":\n",
        "            frase = input(\"\\nDigite uma frase para corrigir: \").strip()\n",
        "            correcao, explicacao = corrigir_frase_e_explicar(client, frase)\n",
        "            print(f\"\\nCorreção: {correcao}\")\n",
        "            print(f\"Explicação:\\n{explicacao}\\n\")\n",
        "\n",
        "        elif opcao == \"2\":\n",
        "            print(\"\\nPor favor, forneça 3 frases onde você tem mais dúvidas:\")\n",
        "            frases_usuario = []\n",
        "            for i in range(3):\n",
        "                frase = input(f\"Frase {i + 1}: \").strip()\n",
        "                frases_usuario.append(frase)\n",
        "            plano = gerar_plano_de_estudos(\" \".join(frases_usuario))\n",
        "            print(f\"\\n{nome_usuario}. Aqui está o seu plano de estudos:\")\n",
        "            print(plano)\n",
        "\n",
        "        elif opcao == \"3\":\n",
        "            print(f\"\\nAté breve, {nome_usuario}! Foi um prazer ajudá-lo(a).\")\n",
        "            # Solicitação de avaliação\n",
        "            avaliacao = input(\"\\nComo você avalia sua experiência? Por favor, avalie de 1 a 5 (1 - ruim, 5 - excelente): \").strip()\n",
        "            print(f\"\\nObrigado pela sua avaliação! Sua opinião é muito importante para nós.\\n\")\n",
        "            break\n",
        "\n",
        "        else:\n",
        "            print(\"\\nOpção inválida. Tente novamente.\\n\")"
      ],
      "metadata": {
        "colab": {
          "base_uri": "https://localhost:8080/"
        },
        "id": "Hg6fB1c47y7c",
        "outputId": "c1dd2644-cd0d-4b9b-ffbf-11ee7fbc3b4f"
      },
      "execution_count": null,
      "outputs": [
        {
          "output_type": "stream",
          "name": "stdout",
          "text": [
            "Bem-vindo(a) ao Guia de Idiomas! Sou seu aliado na jornada de aprendizado linguístico.\n",
            "Posso ajudá-lo(a) a corrigir frases, entender erros gramaticais e até montar planos de estudos personalizados com base nas suas dúvidas.\n",
            "Vamos começar?\n"
          ]
        }
      ]
    }
  ]
}